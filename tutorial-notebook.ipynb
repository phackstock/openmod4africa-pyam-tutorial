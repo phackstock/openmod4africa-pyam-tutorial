{
 "cells": [
  {
   "cell_type": "markdown",
   "metadata": {},
   "source": [
    "# OpenMod4Africa Workshop Madrid 2024: the pyam package\n",
    "\n",
    "[![License:\n",
    "MIT](https://img.shields.io/badge/License-MIT-yellow.svg)](https://opensource.org/licenses/MIT)\n",
    "[![python](https://img.shields.io/badge/python-≥3.10,<3.13-blue?logo=python&logoColor=white)](https://github.com/IAMconsortium/pyam)\n",
    "[![Code style:\n",
    "black](https://img.shields.io/badge/code%20style-black-000000.svg)](https://github.com/psf/black)\n",
    "\n",
    "Copyright 2022 (c) Daniel Huppmann; this repository is released under the [MIT\n",
    "License](LICENSE).\n",
    "\n",
    "This repository is based on the work done by Daniel Huppmann for *ENGAGE Capacity\n",
    "Building Workshop: the pyam package*\n",
    "<https://github.com/danielhuppmann/ENGAGE-pyam-tutorial/>.\n",
    "\n",
    "## Overview\n",
    "\n",
    "This repository holds a [Jupyter notebook](tutorial-notebook.ipynb) for a live-demo of\n",
    "the **pyam** package given as part of the OpenMod4Africa workshop on June 18, 2024.\n",
    "\n",
    "The Jupyter notebook is based on the *ENGAGE Capacity Building Workshop: the pyam\n",
    "package* (<https://github.com/danielhuppmann/ENGAGE-pyam-tutorial/>) which itself is\n",
    "based on the advanced assignment of the [Modelling\n",
    "Lab](https://github.com/danielhuppmann/climate-risks-academy-2021), which was part of\n",
    "the *Climate Risks Academy 2021* organized by the European University Institute (EUI)\n",
    "Florence School of Banking and Finance in cooperation with Oliver Wyman.\n",
    "\n",
    "The scenario data used in this tutorial notebook is taken from the [OpenMod4Africa\n",
    "Internal Scenario Explorer](https://data.ece.iiasa.ac.at/openmod4africa-internal).\n",
    "\n",
    "### Requirements\n",
    "\n",
    "You can install the **pyam** package using the following command -\n",
    "note the subtle naming difference on [pypi.org](https://pypi.org/project/pyam-iamc/).\n",
    "\n",
    "```console\n",
    "pip install pyam-iamc\n",
    "```\n",
    "\n",
    "[Read the docs](https://pyam-iamc.readthedocs.io/en/stable/install.html) for alternative installation options."
   ]
  },
  {
   "cell_type": "code",
   "execution_count": null,
   "metadata": {},
   "outputs": [],
   "source": [
    "import pyam"
   ]
  },
  {
   "cell_type": "markdown",
   "metadata": {},
   "source": [
    "## Import and inspect the scenario data\n",
    "\n",
    "In this example we are using an *excel* file but, pyam also supports *csv* and *frictionless data*.\n",
    "Details can be found in the pyam docs [here](https://pyam-iamc.readthedocs.io/en/stable/api/io.html#input-output-file-formats).\n",
    "\n",
    "Just calling an **IamDataFrame** prints an overview of all index dimensions and coordinates."
   ]
  },
  {
   "cell_type": "code",
   "execution_count": null,
   "metadata": {},
   "outputs": [],
   "source": [
    "tutorial_df = pyam.IamDataFrame(\"data/ngfs_data_snapshot.xlsx\")\n",
    "tutorial_df"
   ]
  },
  {
   "cell_type": "markdown",
   "metadata": {},
   "source": [
    "Because there are more scenarios and variables than can be displayed in one line, the summary only shows a few items.\n",
    "\n",
    "We can easily display all items of an index dimension or a coordinate individually using attributes of the **IamDataFrame**."
   ]
  },
  {
   "cell_type": "code",
   "execution_count": null,
   "metadata": {},
   "outputs": [],
   "source": [
    "tutorial_df.variable"
   ]
  },
  {
   "cell_type": "code",
   "execution_count": null,
   "metadata": {},
   "outputs": [],
   "source": [
    "tutorial_df.scenario"
   ]
  },
  {
   "cell_type": "code",
   "execution_count": null,
   "metadata": {},
   "outputs": [],
   "source": [
    "tutorial_df.region"
   ]
  },
  {
   "cell_type": "markdown",
   "metadata": {},
   "source": [
    "For the remainder of this noteboook, we only use the global data from this scenario ensemble.  \n",
    "Therefore, we [filter()](https://pyam-iamc.readthedocs.io/en/stable/api/iamdataframe.html#pyam.IamDataFrame.filter)\n",
    "to the data of interest..."
   ]
  },
  {
   "cell_type": "code",
   "execution_count": null,
   "metadata": {},
   "outputs": [],
   "source": [
    "df = tutorial_df.filter(region=\"World\")"
   ]
  },
  {
   "cell_type": "markdown",
   "metadata": {},
   "source": [
    "## A few simple plots\n",
    "\n",
    "As a first step to get an idea of the scenario data, let's draw some [plots](https://pyam-iamc.readthedocs.io/en/stable/api/plotting.html).\n",
    "\n",
    "Why not start with the temperature?"
   ]
  },
  {
   "cell_type": "code",
   "execution_count": null,
   "metadata": {},
   "outputs": [],
   "source": [
    "df.filter(variable=\"Temperature\").plot(legend=dict(loc=\"outside right\"))"
   ]
  },
  {
   "cell_type": "markdown",
   "metadata": {},
   "source": [
    "Let's apply some styling by model and scenario..."
   ]
  },
  {
   "cell_type": "code",
   "execution_count": null,
   "metadata": {},
   "outputs": [],
   "source": [
    "df.filter(variable=\"Temperature\").plot(color=\"scenario\", linestyle=\"model\", legend=dict(loc=\"outside right\"))"
   ]
  },
  {
   "cell_type": "markdown",
   "metadata": {},
   "source": [
    "## Unit conversion\n",
    "\n",
    "Working with different units is a constant headache (and source of errors) when handling energy systems data.\n",
    "\n",
    "To simplify such tasks, **pyam** incorporates the [**iam-units**](https://github.com/iamconsortium/units) package,\n",
    "a community resource for units commonly used in energy-systems modelling, integrated assessment and climate research."
   ]
  },
  {
   "cell_type": "code",
   "execution_count": null,
   "metadata": {},
   "outputs": [],
   "source": [
    "df_coal = df.filter(model=\"MESSAGEix-GLOBIOM 1.1\", scenario=\"Current Policies\", variable=\"Primary Energy|Coal\")\n",
    "df_coal.timeseries()"
   ]
  },
  {
   "cell_type": "code",
   "execution_count": null,
   "metadata": {},
   "outputs": [],
   "source": [
    "df_coal.convert_unit(\"EJ/yr\", \"PWh/yr\").timeseries()"
   ]
  },
  {
   "cell_type": "markdown",
   "metadata": {},
   "source": [
    "The **iam-units** package also includes a module to convert different greenhouse-gas emissions\n",
    "by alternative global-warming-potential (GWP) metrics.\n",
    "\n",
    "See [this tutorial](https://pyam-iamc.readthedocs.io/en/stable/tutorials/unit_conversion.html#4.-Use-contexts-to-specify-conversion-metrics) for more information!"
   ]
  },
  {
   "cell_type": "markdown",
   "metadata": {},
   "source": [
    "## Computing aggregates\n",
    "\n",
    "If you look at the list of variables in the scenario data, you'll see that we initially only have sub-categories of *Primary Energy*.\n",
    "\n",
    "However, **pyam** offers a number of useful functions to aggregate (or downscale) by sectors or regions.\n",
    "\n",
    "### Aggregation by sector\n",
    "\n",
    "By default, the [aggregate()](https://pyam-iamc.readthedocs.io/en/stable/api/iamdataframe.html#pyam.IamDataFrame.aggregate) method\n",
    "takes all components of the given variable, in this case `Primary Energy|*`.<br />\n",
    "It returns a new **IamDataFrame** - and the cell displays the summary. You will see that the object has exactly one variable now."
   ]
  },
  {
   "cell_type": "code",
   "execution_count": null,
   "metadata": {},
   "outputs": [],
   "source": [
    "df.aggregate(\"Primary Energy\")"
   ]
  },
  {
   "cell_type": "code",
   "execution_count": null,
   "metadata": {},
   "outputs": [],
   "source": [
    "df.aggregate(\"Primary Energy\").plot(legend=dict(loc=\"outside right\"))"
   ]
  },
  {
   "cell_type": "markdown",
   "metadata": {},
   "source": [
    "Or you can use the [timeseries()](https://pyam-iamc.readthedocs.io/en/stable/api/iamdataframe.html#pyam.IamDataFrame.timeseries) method to show the timeseries data in wide format."
   ]
  },
  {
   "cell_type": "code",
   "execution_count": null,
   "metadata": {},
   "outputs": [],
   "source": [
    "df.aggregate(\"Primary Energy\").timeseries()"
   ]
  },
  {
   "cell_type": "markdown",
   "metadata": {},
   "source": [
    "It is often convenient to directly append computed timeseries data to the original object.\n",
    "For that, you can use the `append=True` keyword argument."
   ]
  },
  {
   "cell_type": "code",
   "execution_count": null,
   "metadata": {},
   "outputs": [],
   "source": [
    "df.aggregate(\"Primary Energy\", append=True)"
   ]
  },
  {
   "cell_type": "code",
   "execution_count": null,
   "metadata": {},
   "outputs": [],
   "source": [
    "df"
   ]
  },
  {
   "cell_type": "markdown",
   "metadata": {},
   "source": [
    "When displaying the variables of the **IamDataFrame** again, there is now an additional variable `Primary Energy`."
   ]
  },
  {
   "cell_type": "code",
   "execution_count": null,
   "metadata": {},
   "outputs": [],
   "source": [
    "df.filter(variable=\"Primary Energy\").data"
   ]
  },
  {
   "cell_type": "markdown",
   "metadata": {},
   "source": [
    "### Aggregation by region\n",
    "\n",
    "In the interest of time, the features for regional aggregation and downscaling are not shown in this notebook.\n",
    "\n",
    "Take a look at [this tutorial](https://pyam-iamc.readthedocs.io/en/stable/tutorials/aggregating_downscaling_consistency.html)\n",
    "for more information!"
   ]
  },
  {
   "cell_type": "markdown",
   "metadata": {},
   "source": [
    "## Categorization of scenarios by their temperature outcome\n",
    "\n",
    "We often want to categorize scenarios by some metrics or indicators.\n",
    "As an example, let us divide scenarios into groups \"above 2C\" and \"below 2C\".\n",
    "\n",
    "First, we assign **all** scenarios to the \"above 2C\" group,\n",
    "and then use the [categorize()](https://pyam-iamc.readthedocs.io/en/stable/api/iamdataframe.html#pyam.IamDataFrame.categorize) method\n",
    "to re-assign all scenarios that satisfy certain criteria."
   ]
  },
  {
   "cell_type": "code",
   "execution_count": null,
   "metadata": {},
   "outputs": [],
   "source": [
    "df.set_meta(meta=\"above 2C\", name=\"warming-category\")\n",
    "df.to_excel(\"df_warming_category_meta.xlsx\")"
   ]
  },
  {
   "cell_type": "code",
   "execution_count": null,
   "metadata": {},
   "outputs": [],
   "source": [
    "df.filter(variable=\"Temperature\").timeseries()"
   ]
  },
  {
   "cell_type": "code",
   "execution_count": null,
   "metadata": {},
   "outputs": [],
   "source": [
    "df.categorize(\n",
    "    \"warming-category\", \"below 2C\",\n",
    "    criteria={\"Temperature\": {\"up\": 2.0}},\n",
    ")"
   ]
  },
  {
   "cell_type": "markdown",
   "metadata": {},
   "source": [
    "We can inspect the assignment of categories via the `meta` attribute."
   ]
  },
  {
   "cell_type": "code",
   "execution_count": null,
   "metadata": {},
   "outputs": [],
   "source": [
    "df.to_excel(\"df_warming_category_meta.xlsx\")"
   ]
  },
  {
   "cell_type": "markdown",
   "metadata": {},
   "source": [
    "We can now use this categorization to assign styles for the plots of other variables."
   ]
  },
  {
   "cell_type": "code",
   "execution_count": null,
   "metadata": {},
   "outputs": [],
   "source": [
    "(\n",
    "    df.filter(variable=\"Primary Energy|Gas\")\n",
    "    .plot(color=\"warming-category\", linestyle=\"model\", fill_between=True, final_ranges=True)\n",
    ")"
   ]
  },
  {
   "cell_type": "markdown",
   "metadata": {},
   "source": [
    "Of course, **pyam** also supports a lot of other plot types and styles -\n",
    "check out the [plotting gallery](https://pyam-iamc.readthedocs.io/en/stable/gallery/index.html)!"
   ]
  },
  {
   "cell_type": "markdown",
   "metadata": {},
   "source": [
    "## Algebraic operations\n",
    "\n",
    "**pyam** can also perform algebraic directly on the timeseries data.\n",
    "\n",
    "All algebraic-operations functions (\n",
    "[add()](https://pyam-iamc.readthedocs.io/en/stable/api/iamdataframe.html#pyam.IamDataFrame.add),\n",
    "[subtract()](https://pyam-iamc.readthedocs.io/en/stable/api/iamdataframe.html#pyam.IamDataFrame.subtract),\n",
    "[multiply()](https://pyam-iamc.readthedocs.io/en/stable/api/iamdataframe.html#pyam.IamDataFrame.multiply),\n",
    "[divide()](https://pyam-iamc.readthedocs.io/en/stable/api/iamdataframe.html#pyam.IamDataFrame.divide)\n",
    ") follow the syntax:\n",
    "\n",
    "```\n",
    "df.<method>(a, b, c) => a <op> b = c\n",
    "```\n",
    "\n",
    "If possible, **pyam** will try to keep the unit consistent during the operation.  \n",
    "This feature is supported by the **pint** and the **iam-units** packages,\n",
    "see [here](https://github.com/iamconsortium/units).\n",
    "\n",
    "## Computing the amount of primary energy that is not coal\n",
    "\n",
    "First, we subtract coal from total primary energy and draw a simple plot.  \n",
    "For this section, we will use a downselected version of the scenario data that only has global values."
   ]
  },
  {
   "cell_type": "code",
   "execution_count": null,
   "metadata": {},
   "outputs": [],
   "source": [
    "df.subtract(\"Primary Energy\", \"Primary Energy|Coal\", \"Primary Energy|Non-Coal\").plot()"
   ]
  },
  {
   "cell_type": "markdown",
   "metadata": {},
   "source": [
    "### Computing coal as a share of primary energy\n",
    "\n",
    "Next, we can also compute the share of coal relative to total primary energy, and again draw the plot."
   ]
  },
  {
   "cell_type": "code",
   "execution_count": null,
   "metadata": {},
   "outputs": [],
   "source": [
    "df.divide(\"Primary Energy|Coal\", \"Primary Energy\", \"Share of coal\").plot(legend=dict(loc=\"outside right\"))"
   ]
  },
  {
   "cell_type": "markdown",
   "metadata": {},
   "source": [
    "Note that **pyam** has automatically changed the unit on the y-axis.\n",
    "Dividing `EJ/yr` by `EJ/yr` yiels in a dimensionless value."
   ]
  },
  {
   "cell_type": "markdown",
   "metadata": {},
   "source": [
    "### Compute ratio of energy sources between different scenarios\n",
    "\n",
    "So far, we used the algebraic operations on the (default) *variable* axis.\n",
    "But **pyam** also supports these operations on any other axis of the timeseries data!\n",
    "\n",
    "Now, we compute the relative indicator between the *Net Zero 2050* and the *Current Policies* scenarios,\n",
    "and again plot the resulting timeseries data.  \n",
    "For simplicity, we only perform this computation on primary-energy values (including the sub-categories)\n",
    "of the *REMIND* model."
   ]
  },
  {
   "cell_type": "code",
   "execution_count": null,
   "metadata": {},
   "outputs": [],
   "source": [
    "df_pe = df.filter(model=\"REMIND-MAgPIE 2.1-4.2\", variable=\"Primary Energy*\")"
   ]
  },
  {
   "cell_type": "code",
   "execution_count": null,
   "metadata": {},
   "outputs": [],
   "source": [
    "(\n",
    "    df_pe.divide(\"Net Zero 2050\", \"Current Policies\", \"Ratio\", axis=\"scenario\")\n",
    "    .plot(legend=dict(loc=\"outside right\"))\n",
    ")"
   ]
  },
  {
   "cell_type": "code",
   "execution_count": null,
   "metadata": {},
   "outputs": [],
   "source": [
    "import matplotlib.pyplot as plt"
   ]
  },
  {
   "cell_type": "markdown",
   "metadata": {},
   "source": [
    "As a final illustration, this tutorials shows how to use **matplotlib** and **pyam** to create several plots next to each other."
   ]
  },
  {
   "cell_type": "code",
   "execution_count": null,
   "metadata": {},
   "outputs": [],
   "source": [
    "baseline = \"Current Policies\"\n",
    "scenario = set(df.scenario) - set([baseline])\n",
    "\n",
    "# We first create a matplotlib figure with several \"axes\" objects (i.e., individual plots)\n",
    "fig, ax = plt.subplots(1, len(scenario), figsize=(15, 5), sharey=True)\n",
    "\n",
    "# Then, we iterate over the axes, plotting the results for each scenario as we go along\n",
    "for i, s in enumerate(scenario):\n",
    "    (\n",
    "        df_pe.divide(s, baseline, \"Ratio\", axis=\"scenario\")\n",
    "        .plot(ax=ax[i], legend=dict(loc=\"outside right\") if i==len(scenario) - 1 else False)\n",
    "    )\n",
    "\n",
    "    # We can also modify the axes objects directly to produce a better figure\n",
    "    ax[i].set_title(s)"
   ]
  },
  {
   "cell_type": "markdown",
   "metadata": {},
   "source": [
    "### Retrieve data directly from a Scenario Explorer\n",
    "\n",
    "So far we have worked with downloaded data in form of Excel.\n",
    "However, it is possible to download data directly from a Scenario Explorer.\n",
    "\n",
    "To view the different databases available we use:"
   ]
  },
  {
   "cell_type": "code",
   "execution_count": null,
   "metadata": {},
   "outputs": [],
   "source": [
    "conn = pyam.iiasa.Connection()"
   ]
  },
  {
   "cell_type": "markdown",
   "metadata": {},
   "source": [
    "Explore what's there for AR6:"
   ]
  },
  {
   "cell_type": "code",
   "execution_count": null,
   "metadata": {},
   "outputs": [],
   "source": [
    "conn = pyam.iiasa.Connection('openmod4africa_internal')"
   ]
  },
  {
   "cell_type": "code",
   "execution_count": null,
   "metadata": {},
   "outputs": [],
   "source": [
    "conn.models()"
   ]
  },
  {
   "cell_type": "code",
   "execution_count": null,
   "metadata": {},
   "outputs": [],
   "source": [
    "conn.scenarios()"
   ]
  },
  {
   "cell_type": "markdown",
   "metadata": {},
   "source": [
    "Let's get some AR6 data then:"
   ]
  },
  {
   "cell_type": "code",
   "execution_count": null,
   "metadata": {},
   "outputs": [],
   "source": [
    "df = pyam.read_iiasa('openmod4africa')"
   ]
  },
  {
   "cell_type": "code",
   "execution_count": null,
   "metadata": {},
   "outputs": [],
   "source": [
    "df"
   ]
  },
  {
   "cell_type": "markdown",
   "metadata": {},
   "source": [
    "More details about downloading data directly from a Scenario Explorer can be found in the [pyam docs](https://pyam-iamc.readthedocs.io/en/stable/tutorials/iiasa_dbs.html)."
   ]
  },
  {
   "cell_type": "markdown",
   "metadata": {},
   "source": [
    "<div class=\"alert alert-info\">\n",
    "    \n",
    "**Curious about more pyam features?** Check out the all the pyam tutorials on our [ReadTheDocs page](https://pyam-iamc.readthedocs.io/en/stable/tutorials.html)!\n",
    "\n",
    "</div>"
   ]
  }
 ],
 "metadata": {
  "kernelspec": {
   "display_name": "venv",
   "language": "python",
   "name": "venv"
  },
  "language_info": {
   "codemirror_mode": {
    "name": "ipython",
    "version": 3
   },
   "file_extension": ".py",
   "mimetype": "text/x-python",
   "name": "python",
   "nbconvert_exporter": "python",
   "pygments_lexer": "ipython3",
   "version": "3.10.6"
  },
  "vscode": {
   "interpreter": {
    "hash": "e7370f93d1d0cde622a1f8e1c04877d8463912d04d973331ad4851f04de6915a"
   }
  }
 },
 "nbformat": 4,
 "nbformat_minor": 4
}
